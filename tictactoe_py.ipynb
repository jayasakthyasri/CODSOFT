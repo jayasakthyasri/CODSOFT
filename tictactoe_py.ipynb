{
  "nbformat": 4,
  "nbformat_minor": 0,
  "metadata": {
    "colab": {
      "provenance": [],
      "toc_visible": true,
      "authorship_tag": "ABX9TyMLoKWWorHz3MlG2Hl5lJIj",
      "include_colab_link": true
    },
    "kernelspec": {
      "name": "python3",
      "display_name": "Python 3"
    },
    "language_info": {
      "name": "python"
    }
  },
  "cells": [
    {
      "cell_type": "markdown",
      "metadata": {
        "id": "view-in-github",
        "colab_type": "text"
      },
      "source": [
        "<a href=\"https://colab.research.google.com/github/jayasakthyasri/CODSOFT/blob/main/tictactoe_py.ipynb\" target=\"_parent\"><img src=\"https://colab.research.google.com/assets/colab-badge.svg\" alt=\"Open In Colab\"/></a>"
      ]
    },
    {
      "cell_type": "code",
      "source": [
        "def display_board(board):\n",
        "  for i, row in enumerate (board):\n",
        "    print('|'.join(row))\n",
        "\n",
        "    if i < len(board)-1:\n",
        "      print('-' * 5)"
      ],
      "metadata": {
        "id": "UdlQIMdODmeK"
      },
      "execution_count": 16,
      "outputs": []
    },
    {
      "cell_type": "code",
      "source": [
        "board=[[' ' for _ in range(3)] for _ in range(3)]\n",
        "display_board(board)"
      ],
      "metadata": {
        "colab": {
          "base_uri": "https://localhost:8080/"
        },
        "id": "5HqgC6x1JAfr",
        "outputId": "11a5da27-4122-46c8-ecc1-2c845a1f49be"
      },
      "execution_count": 17,
      "outputs": [
        {
          "output_type": "stream",
          "name": "stdout",
          "text": [
            " | | \n",
            "-----\n",
            " | | \n",
            "-----\n",
            " | | \n"
          ]
        }
      ]
    },
    {
      "cell_type": "code",
      "source": [
        "def check_win(board, player):\n",
        "  for row in board:\n",
        "    if all(cell == player for cell in row):\n",
        "      return True\n",
        "\n",
        "\n",
        "  for col in range(3):\n",
        "    if all(board[row][col] == player for row in range(3)):\n",
        "      return True\n",
        "\n",
        "\n",
        "  if all(board[i][i]== player for i in range(3)) or all(board[i][2-i] == player for i in range(3)):\n",
        "    return True\n",
        "\n",
        "  return False\n",
        "\n",
        "\n",
        "def is_draw(board):\n",
        "  return all(cell != ' ' for row in board for cell in row)\n",
        "\n",
        "def player_move(board):\n",
        "  while True:\n",
        "    try:\n",
        "      row = int(input(\"enter the row (0,1,2): \"))\n",
        "      col = int(input(\"enter the column  (0,1,2): \"))\n",
        "\n",
        "      if 0 <= row <= 2 and 0 <= col <= 2 and board[row][col] == ' ':\n",
        "        return row, col\n",
        "\n",
        "      else:\n",
        "        print(\"invalid move!try again.\")\n",
        "\n",
        "    except ValueError:\n",
        "      print(\"invalid entry.enter values between 0 and 2.\")\n",
        "\n",
        "\n",
        "\n",
        "\n",
        "\n"
      ],
      "metadata": {
        "id": "qMYWniGFJ9PQ"
      },
      "execution_count": 18,
      "outputs": []
    },
    {
      "cell_type": "code",
      "source": [
        "def minimax(board, depth , is_maximizing, max_depth):\n",
        "  if check_win(board , 'X'):\n",
        "    return 1\n",
        "  elif check_win(board , 'O'):\n",
        "    return -1\n",
        "  elif is_draw(board) or depth == max_depth:\n",
        "    return 0\n",
        "\n",
        "\n",
        "  if is_maximizing:\n",
        "    max_eval = -float('inf')\n",
        "    for i in range(3):\n",
        "      for j in range(3):\n",
        "        if board[i][j]== ' ':\n",
        "\n",
        "          board[i][j]== 'O'\n",
        "          eval = minimax(board, depth+1, False, max_depth)\n",
        "          board[i][j]== ' '\n",
        "          max_eval = max(max_eval,eval)\n",
        "    return max_eval\n",
        "  else:\n",
        "    min_eval = float('inf')\n",
        "    for i in range(3):\n",
        "      for j in range(3):\n",
        "        if board[i][j]== ' ':\n",
        "\n",
        "          board[i][j]== 'X'\n",
        "          eval = minimax(board, depth+1, False, max_depth)\n",
        "          board[i][j]== ' '\n",
        "          min_eval = min(min_eval,eval)\n",
        "    return min_eval\n",
        "\n",
        "\n",
        "def ai_move(board, max_depth):\n",
        "  best_eval = -float('inf')\n",
        "  best_move = None\n",
        "\n",
        "  for i in range(3):\n",
        "      for j in range(3):\n",
        "        if board[i][j]== ' ':\n",
        "          board[i][j] = 'O'\n",
        "          eval = minimax(board, 0, False, max_depth)\n",
        "          board[i][j] = ' '\n",
        "          if eval > best_eval:\n",
        "            best_eval = eval\n",
        "            best_move = (i, j)\n",
        "\n",
        "  return best_move\n",
        "\n",
        "\n",
        "\n",
        "\n"
      ],
      "metadata": {
        "id": "Hq8ZotmQO10t"
      },
      "execution_count": 15,
      "outputs": []
    },
    {
      "cell_type": "code",
      "source": [
        "def main():\n",
        "  board=[[' ' for _ in range(3)]for _ in range(3)]\n",
        "\n",
        "  player_turn = True\n",
        "\n",
        "  while True:\n",
        "    display_board(board)\n",
        "    if player_turn:\n",
        "      print(\"\\n\")\n",
        "      print(\"your turn:\")\n",
        "      row, col = player_move(board)\n",
        "      print(\"\\n\")\n",
        "      board[row][col] ='X'\n",
        "\n",
        "    else:\n",
        "      print(\"\\n\")\n",
        "      input(\"press enter for the AI player to go...\")\n",
        "      row, col = ai_move(board, 0)\n",
        "      print(\"\\n\")\n",
        "      board[row][col] = 'O'\n",
        "\n",
        "    if check_win(board, 'X'):\n",
        "      display_board(board)\n",
        "      print(\"hurray!!! you win.\")\n",
        "      break\n",
        "\n",
        "    elif check_win(board,'O'):\n",
        "      display_board(board)\n",
        "      print(\"oops! AI wins bruh\")\n",
        "      break\n",
        "\n",
        "    elif is_draw(board):\n",
        "      display_board(board)\n",
        "      print(\"Its a draw...hmm equally talented\")\n",
        "      break\n",
        "\n",
        "    player_turn = not player_turn\n",
        "\n",
        "if __name__ == \"__main__\":\n",
        "  main()\n",
        "\n"
      ],
      "metadata": {
        "colab": {
          "base_uri": "https://localhost:8080/"
        },
        "id": "yR-W6JYZT03h",
        "outputId": "263619f3-2671-43d5-94a4-2db2b22a3af9"
      },
      "execution_count": 23,
      "outputs": [
        {
          "output_type": "stream",
          "name": "stdout",
          "text": [
            " | | \n",
            "-----\n",
            " | | \n",
            "-----\n",
            " | | \n",
            "\n",
            "\n",
            "your turn:\n",
            "enter the row (0,1,2): 0\n",
            "enter the column  (0,1,2): 0\n",
            "\n",
            "\n",
            "X| | \n",
            "-----\n",
            " | | \n",
            "-----\n",
            " | | \n",
            "\n",
            "\n",
            "press enter for the AI player to go...\n",
            "\n",
            "\n",
            "X|O| \n",
            "-----\n",
            " | | \n",
            "-----\n",
            " | | \n",
            "\n",
            "\n",
            "your turn:\n",
            "enter the row (0,1,2): 1\n",
            "enter the column  (0,1,2): 1\n",
            "\n",
            "\n",
            "X|O| \n",
            "-----\n",
            " |X| \n",
            "-----\n",
            " | | \n",
            "\n",
            "\n",
            "press enter for the AI player to go...\n",
            "\n",
            "\n",
            "X|O|O\n",
            "-----\n",
            " |X| \n",
            "-----\n",
            " | | \n",
            "\n",
            "\n",
            "your turn:\n",
            "enter the row (0,1,2): 2\n",
            "enter the column  (0,1,2): 2\n",
            "\n",
            "\n",
            "X|O|O\n",
            "-----\n",
            " |X| \n",
            "-----\n",
            " | |X\n",
            "hurray!!! you win.\n"
          ]
        }
      ]
    }
  ]
}