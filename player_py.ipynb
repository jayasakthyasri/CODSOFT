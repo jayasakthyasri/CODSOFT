{
  "nbformat": 4,
  "nbformat_minor": 0,
  "metadata": {
    "colab": {
      "provenance": [],
      "authorship_tag": "ABX9TyMbgqnJ1HnRWLTMr+HHUnFG",
      "include_colab_link": true
    },
    "kernelspec": {
      "name": "python3",
      "display_name": "Python 3"
    },
    "language_info": {
      "name": "python"
    }
  },
  "cells": [
    {
      "cell_type": "markdown",
      "metadata": {
        "id": "view-in-github",
        "colab_type": "text"
      },
      "source": [
        "<a href=\"https://colab.research.google.com/github/jayasakthyasri/CODSOFT/blob/main/player_py.ipynb\" target=\"_parent\"><img src=\"https://colab.research.google.com/assets/colab-badge.svg\" alt=\"Open In Colab\"/></a>"
      ]
    },
    {
      "cell_type": "code",
      "execution_count": 1,
      "metadata": {
        "id": "F2T41OUUJk6K"
      },
      "outputs": [],
      "source": [
        "import math\n",
        "import random\n",
        "\n",
        "\n",
        "class Player():\n",
        "    def __init__(self, letter):\n",
        "        self.letter = letter\n",
        "\n",
        "    def get_move(self, game):\n",
        "        pass\n",
        "\n",
        "\n",
        "class HumanPlayer(Player):\n",
        "    def __init__(self, letter):\n",
        "        super().__init__(letter)\n",
        "\n",
        "    def get_move(self, game):\n",
        "        valid_square = False\n",
        "        val = None\n",
        "        while not valid_square:\n",
        "            square = input(self.letter + '\\'s turn. Input move (0-9): ')\n",
        "            try:\n",
        "                val = int(square)\n",
        "                if val not in game.available_moves():\n",
        "                    raise ValueError\n",
        "                valid_square = True\n",
        "            except ValueError:\n",
        "                print('Invalid square. Try again.')\n",
        "        return val\n",
        "\n",
        "\n",
        "class RandomComputerPlayer(Player):\n",
        "    def __init__(self, letter):\n",
        "        super().__init__(letter)\n",
        "\n",
        "    def get_move(self, game):\n",
        "        square = random.choice(game.available_moves())\n",
        "        return square\n",
        "\n",
        "\n",
        "class SmartComputerPlayer(Player):\n",
        "    def __init__(self, letter):\n",
        "        super().__init__(letter)\n",
        "\n",
        "    def get_move(self, game):\n",
        "        if len(game.available_moves()) == 9:\n",
        "            square = random.choice(game.available_moves())\n",
        "        else:\n",
        "            square = self.minimax(game, self.letter)['position']\n",
        "        return square\n",
        "\n",
        "    def minimax(self, state, player):\n",
        "        max_player = self.letter  # yourself\n",
        "        other_player = 'O' if player == 'X' else 'X'\n",
        "\n",
        "        # first we want to check if the previous move is a winner\n",
        "        if state.current_winner == other_player:\n",
        "            return {'position': None, 'score': 1 * (state.num_empty_squares() + 1) if other_player == max_player else -1 * (\n",
        "                        state.num_empty_squares() + 1)}\n",
        "        elif not state.empty_squares():\n",
        "            return {'position': None, 'score': 0}\n",
        "\n",
        "        if player == max_player:\n",
        "            best = {'position': None, 'score': -math.inf}  # each score should maximize\n",
        "        else:\n",
        "            best = {'position': None, 'score': math.inf}  # each score should minimize\n",
        "        for possible_move in state.available_moves():\n",
        "            state.make_move(possible_move, player)\n",
        "            sim_score = self.minimax(state, other_player)  # simulate a game after making that move\n",
        "\n",
        "            # undo move\n",
        "            state.board[possible_move] = ' '\n",
        "            state.current_winner = None\n",
        "            sim_score['position'] = possible_move  # this represents the move optimal next move\n",
        "\n",
        "            if player == max_player:  # X is max player\n",
        "                if sim_score['score'] > best['score']:\n",
        "                    best = sim_score\n",
        "            else:\n",
        "                if sim_score['score'] < best['score']:\n",
        "                    best = sim_score\n",
        "        return best"
      ]
    }
  ]
}