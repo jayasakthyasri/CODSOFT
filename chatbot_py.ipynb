{
  "nbformat": 4,
  "nbformat_minor": 0,
  "metadata": {
    "colab": {
      "provenance": [],
      "authorship_tag": "ABX9TyMJLJ1K67HzEp9QgMWus1TB",
      "include_colab_link": true
    },
    "kernelspec": {
      "name": "python3",
      "display_name": "Python 3"
    },
    "language_info": {
      "name": "python"
    }
  },
  "cells": [
    {
      "cell_type": "markdown",
      "metadata": {
        "id": "view-in-github",
        "colab_type": "text"
      },
      "source": [
        "<a href=\"https://colab.research.google.com/github/jayasakthyasri/CODSOFT/blob/main/chatbot_py.ipynb\" target=\"_parent\"><img src=\"https://colab.research.google.com/assets/colab-badge.svg\" alt=\"Open In Colab\"/></a>"
      ]
    },
    {
      "cell_type": "code",
      "source": [
        "import re\n",
        "import random\n",
        "\n",
        "class rulebasebot:\n",
        "  nega_rep=(\"no\",\"nah\",\"nope\",\"sorry\",\"not\",\"not at all\")\n",
        "  exit_com=(\"quit\",\"stop\",\"pause\",\"goodbye\",\"goodnight\",\"nexttime\",\"thanks for now\")\n",
        "  random_ques=(\n",
        "      \"why people love music?\",\n",
        "      \"do you know music?\",\n",
        "      \"what is music for you?\",\n",
        "      \"do you people hear music in your house?\",\n",
        "      \"is music your favo?\"\n",
        "      )\n",
        "  def __init__(self):\n",
        "    self.ayalaan={'description_my_house':r'.*\\s*your house.*',\n",
        "                  'ans_why_ques':r'why\\sare.*',\n",
        "                  'abt_music':r'.*\\s*music'\n",
        "                  }\n",
        "  def greet(self):\n",
        "    self.name=input(\"what is your sweet name?\")\n",
        "    help_me=input(\n",
        "        f\"Hi {self.name}, im a bot,will you help me to know about music?\\n\")\n",
        "    if help_me in self.nega_rep:\n",
        "      print(\"ok,have a nice music day!\")\n",
        "      return\n",
        "    self.chat()\n",
        "\n",
        "  def make_exit(self,reply):\n",
        "    for command in self.exit_com:\n",
        "      if reply == command:\n",
        "        print(\"fine...have a nice music day!\")\n",
        "        return True\n",
        "\n",
        "  def chat(self):\n",
        "    reply=input(random.choice(self.random_ques).lower())\n",
        "    while not self.make_exit(reply):\n",
        "      reply=input(self.match_reply(reply))\n",
        "\n",
        "  def match_reply(self,reply):\n",
        "    for key,value in self.ayalaan.items():\n",
        "      intent = key\n",
        "      regex_pattern = value\n",
        "      found_match = re.match(regex_pattern,reply)\n",
        "      if found_match and intent == 'description_my_house':\n",
        "        return self.description_my_house()\n",
        "      elif found_match and intent == 'ask_why_ques':\n",
        "        return self.ask_why_ques()\n",
        "      elif found_match and intent == 'abt_music':\n",
        "        return self.abt_music()\n",
        "\n",
        "    if not found_match:\n",
        "      return self.no_match_found()\n",
        "\n",
        "\n",
        "  def description_my_house(self):\n",
        "    responses=(\"my house has no music.\\n\",\n",
        "               \"It is always silent.\\n\",\n",
        "               \"It has no music but has good food like diamond burgers and ice sushis.\\n\")\n",
        "    return random.choice(responses)\n",
        "\n",
        "  def ask_why_ques(self):\n",
        "    responses=(\"i came here to know about music.\\n\",\n",
        "               \"i am very much interested in music and stuffs.\\n\")\n",
        "    return random.choice(responses)\n",
        "\n",
        "  def abt_music(self):\n",
        "    responses=(\"I heard that music is very much hyped, but i've not been informed about it.\\n so help me with music and datas to become more knowledgable.\\n\")\n",
        "    return random.choice(responses)\n",
        "\n",
        "  def no_match_found(self):\n",
        "    responses=(\"tell me more about that...\\n\",\n",
        "               \"thats so interesting.\\n\",\n",
        "               \"oh, tell me more.\\n\",\n",
        "               \"thats another good info, can you explain more.\\n\")\n",
        "    return random.choice(responses)\n",
        "\n",
        "ayalaanbot = rulebasebot()\n",
        "ayalaanbot.greet()\n",
        "\n",
        "\n",
        "\n",
        "\n",
        "\n"
      ],
      "metadata": {
        "colab": {
          "base_uri": "https://localhost:8080/"
        },
        "id": "QBz4VK3HMN5A",
        "outputId": "aef1453f-270c-4bfb-f721-7fbdf2facd23"
      },
      "execution_count": null,
      "outputs": [
        {
          "output_type": "stream",
          "name": "stdout",
          "text": [
            "what is your sweet name?Jaya\n",
            "Hi Jaya, im a bot,will you help me to know about music?\n",
            "yes sure\n",
            "do you people hear music in your house?of course we hear , do you hear music in your house?\n",
            "It has no music but has good food like diamond burgers and ice sushis.\n",
            "haha funny , music is very good to our mental strengths\n",
            "ustop\n",
            "fine...have a nice music day!\n"
          ]
        }
      ]
    }
  ]
}